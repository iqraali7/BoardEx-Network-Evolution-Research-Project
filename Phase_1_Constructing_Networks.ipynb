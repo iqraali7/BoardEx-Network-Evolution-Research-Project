{
  "nbformat": 4,
  "nbformat_minor": 0,
  "metadata": {
    "colab": {
      "provenance": []
    },
    "kernelspec": {
      "name": "python3",
      "display_name": "Python 3"
    },
    "language_info": {
      "name": "python"
    }
  },
  "cells": [
    {
      "cell_type": "code",
      "execution_count": null,
      "metadata": {
        "id": "NS07kIBI6tW2"
      },
      "outputs": [],
      "source": [
        "# import libraries\n",
        "import os\n",
        "import pandas as pd\n",
        "import networkx as nx\n",
        "import matplotlib.pyplot as plt"
      ]
    },
    {
      "cell_type": "code",
      "source": [
        "from google.colab import drive\n",
        "drive.mount('/content/drive')"
      ],
      "metadata": {
        "colab": {
          "base_uri": "https://localhost:8080/"
        },
        "id": "trxQV6ac6u6L",
        "outputId": "f80d4630-3047-4347-d79b-25d1301b53bf"
      },
      "execution_count": null,
      "outputs": [
        {
          "output_type": "stream",
          "name": "stdout",
          "text": [
            "Mounted at /content/drive\n"
          ]
        }
      ]
    },
    {
      "cell_type": "code",
      "source": [
        "#Import Data\n",
        "\n",
        "file_path = '/content/drive/My Drive/qozmgkuw6vq8k7pq.csv'\n",
        "BoardEx= pd.read_csv(file_path, encoding= 'latin', engine= 'python')"
      ],
      "metadata": {
        "id": "uB8-KH6H6wo2"
      },
      "execution_count": null,
      "outputs": []
    },
    {
      "cell_type": "markdown",
      "source": [
        "# **Data Pre-Processing**"
      ],
      "metadata": {
        "id": "DHopJZl3DFuF"
      }
    },
    {
      "cell_type": "code",
      "source": [
        "# Filtering the dataframe for only UK records\n",
        "\n",
        "BoardEx = BoardEx[BoardEx['HOCountryName'].fillna('').str.startswith('United Kingdom')]\n"
      ],
      "metadata": {
        "colab": {
          "base_uri": "https://localhost:8080/",
          "height": 394
        },
        "id": "Hwj2WpdI6zBu",
        "outputId": "69fac936-dc96-48d7-917a-cabbcd686953"
      },
      "execution_count": null,
      "outputs": [
        {
          "output_type": "execute_result",
          "data": {
            "text/plain": [
              "                       RowType      DirectorName  \\\n",
              "943819  Unlisted Organisations     Jo Regan-Iles   \n",
              "943820  Unlisted Organisations  Andrew Mullinger   \n",
              "943821  Unlisted Organisations  Andrew Mullinger   \n",
              "943822  Unlisted Organisations  Martin Whitmarsh   \n",
              "943823  Unlisted Organisations  Andrew Mullinger   \n",
              "\n",
              "                                      CompanyName BrdPosition  \\\n",
              "943819                Alpha Thrust Management Ltd          No   \n",
              "943820                             Amullinger Ltd         Yes   \n",
              "943821           Hollonds Woodland Management Ltd         Yes   \n",
              "943822  Aston Martin Performance Technologies Ltd         Yes   \n",
              "943823                           Gnome Energy Ltd         Yes   \n",
              "\n",
              "                    RoleName FulltextDescription  NED  DirectorID  CompanyID  \\\n",
              "943819  Chief People Officer                 NaN   No     2612232    3816402   \n",
              "943820                   NED                 NaN  Yes     1452267    3816418   \n",
              "943821                   NED                 NaN  Yes     1452267    3816420   \n",
              "943822             Group CEO                 NaN   No     1673239    3816424   \n",
              "943823                   NED                 NaN  Yes     1452267    3816430   \n",
              "\n",
              "       DateStartRole DateEndRole             HOCountryName Sector  OrgType  \\\n",
              "943819    2023-07-01           C  United Kingdom - England    NaN  Private   \n",
              "943820    2016-08-04           C  United Kingdom - England    NaN  Private   \n",
              "943821    2022-04-07           C  United Kingdom - England    NaN  Private   \n",
              "943822    2022-01-01           C  United Kingdom - England    NaN  Private   \n",
              "943823    2023-04-03           C  United Kingdom - England    NaN  Private   \n",
              "\n",
              "       ISIN  \n",
              "943819  NaN  \n",
              "943820  NaN  \n",
              "943821  NaN  \n",
              "943822  NaN  \n",
              "943823  NaN  "
            ],
            "text/html": [
              "\n",
              "  <div id=\"df-f9f8c377-4fbe-4b6a-ad4a-8263c48eb60a\" class=\"colab-df-container\">\n",
              "    <div>\n",
              "<style scoped>\n",
              "    .dataframe tbody tr th:only-of-type {\n",
              "        vertical-align: middle;\n",
              "    }\n",
              "\n",
              "    .dataframe tbody tr th {\n",
              "        vertical-align: top;\n",
              "    }\n",
              "\n",
              "    .dataframe thead th {\n",
              "        text-align: right;\n",
              "    }\n",
              "</style>\n",
              "<table border=\"1\" class=\"dataframe\">\n",
              "  <thead>\n",
              "    <tr style=\"text-align: right;\">\n",
              "      <th></th>\n",
              "      <th>RowType</th>\n",
              "      <th>DirectorName</th>\n",
              "      <th>CompanyName</th>\n",
              "      <th>BrdPosition</th>\n",
              "      <th>RoleName</th>\n",
              "      <th>FulltextDescription</th>\n",
              "      <th>NED</th>\n",
              "      <th>DirectorID</th>\n",
              "      <th>CompanyID</th>\n",
              "      <th>DateStartRole</th>\n",
              "      <th>DateEndRole</th>\n",
              "      <th>HOCountryName</th>\n",
              "      <th>Sector</th>\n",
              "      <th>OrgType</th>\n",
              "      <th>ISIN</th>\n",
              "    </tr>\n",
              "  </thead>\n",
              "  <tbody>\n",
              "    <tr>\n",
              "      <th>943819</th>\n",
              "      <td>Unlisted Organisations</td>\n",
              "      <td>Jo Regan-Iles</td>\n",
              "      <td>Alpha Thrust Management Ltd</td>\n",
              "      <td>No</td>\n",
              "      <td>Chief People Officer</td>\n",
              "      <td>NaN</td>\n",
              "      <td>No</td>\n",
              "      <td>2612232</td>\n",
              "      <td>3816402</td>\n",
              "      <td>2023-07-01</td>\n",
              "      <td>C</td>\n",
              "      <td>United Kingdom - England</td>\n",
              "      <td>NaN</td>\n",
              "      <td>Private</td>\n",
              "      <td>NaN</td>\n",
              "    </tr>\n",
              "    <tr>\n",
              "      <th>943820</th>\n",
              "      <td>Unlisted Organisations</td>\n",
              "      <td>Andrew Mullinger</td>\n",
              "      <td>Amullinger Ltd</td>\n",
              "      <td>Yes</td>\n",
              "      <td>NED</td>\n",
              "      <td>NaN</td>\n",
              "      <td>Yes</td>\n",
              "      <td>1452267</td>\n",
              "      <td>3816418</td>\n",
              "      <td>2016-08-04</td>\n",
              "      <td>C</td>\n",
              "      <td>United Kingdom - England</td>\n",
              "      <td>NaN</td>\n",
              "      <td>Private</td>\n",
              "      <td>NaN</td>\n",
              "    </tr>\n",
              "    <tr>\n",
              "      <th>943821</th>\n",
              "      <td>Unlisted Organisations</td>\n",
              "      <td>Andrew Mullinger</td>\n",
              "      <td>Hollonds Woodland Management Ltd</td>\n",
              "      <td>Yes</td>\n",
              "      <td>NED</td>\n",
              "      <td>NaN</td>\n",
              "      <td>Yes</td>\n",
              "      <td>1452267</td>\n",
              "      <td>3816420</td>\n",
              "      <td>2022-04-07</td>\n",
              "      <td>C</td>\n",
              "      <td>United Kingdom - England</td>\n",
              "      <td>NaN</td>\n",
              "      <td>Private</td>\n",
              "      <td>NaN</td>\n",
              "    </tr>\n",
              "    <tr>\n",
              "      <th>943822</th>\n",
              "      <td>Unlisted Organisations</td>\n",
              "      <td>Martin Whitmarsh</td>\n",
              "      <td>Aston Martin Performance Technologies Ltd</td>\n",
              "      <td>Yes</td>\n",
              "      <td>Group CEO</td>\n",
              "      <td>NaN</td>\n",
              "      <td>No</td>\n",
              "      <td>1673239</td>\n",
              "      <td>3816424</td>\n",
              "      <td>2022-01-01</td>\n",
              "      <td>C</td>\n",
              "      <td>United Kingdom - England</td>\n",
              "      <td>NaN</td>\n",
              "      <td>Private</td>\n",
              "      <td>NaN</td>\n",
              "    </tr>\n",
              "    <tr>\n",
              "      <th>943823</th>\n",
              "      <td>Unlisted Organisations</td>\n",
              "      <td>Andrew Mullinger</td>\n",
              "      <td>Gnome Energy Ltd</td>\n",
              "      <td>Yes</td>\n",
              "      <td>NED</td>\n",
              "      <td>NaN</td>\n",
              "      <td>Yes</td>\n",
              "      <td>1452267</td>\n",
              "      <td>3816430</td>\n",
              "      <td>2023-04-03</td>\n",
              "      <td>C</td>\n",
              "      <td>United Kingdom - England</td>\n",
              "      <td>NaN</td>\n",
              "      <td>Private</td>\n",
              "      <td>NaN</td>\n",
              "    </tr>\n",
              "  </tbody>\n",
              "</table>\n",
              "</div>\n",
              "    <div class=\"colab-df-buttons\">\n",
              "\n",
              "  <div class=\"colab-df-container\">\n",
              "    <button class=\"colab-df-convert\" onclick=\"convertToInteractive('df-f9f8c377-4fbe-4b6a-ad4a-8263c48eb60a')\"\n",
              "            title=\"Convert this dataframe to an interactive table.\"\n",
              "            style=\"display:none;\">\n",
              "\n",
              "  <svg xmlns=\"http://www.w3.org/2000/svg\" height=\"24px\" viewBox=\"0 -960 960 960\">\n",
              "    <path d=\"M120-120v-720h720v720H120Zm60-500h600v-160H180v160Zm220 220h160v-160H400v160Zm0 220h160v-160H400v160ZM180-400h160v-160H180v160Zm440 0h160v-160H620v160ZM180-180h160v-160H180v160Zm440 0h160v-160H620v160Z\"/>\n",
              "  </svg>\n",
              "    </button>\n",
              "\n",
              "  <style>\n",
              "    .colab-df-container {\n",
              "      display:flex;\n",
              "      gap: 12px;\n",
              "    }\n",
              "\n",
              "    .colab-df-convert {\n",
              "      background-color: #E8F0FE;\n",
              "      border: none;\n",
              "      border-radius: 50%;\n",
              "      cursor: pointer;\n",
              "      display: none;\n",
              "      fill: #1967D2;\n",
              "      height: 32px;\n",
              "      padding: 0 0 0 0;\n",
              "      width: 32px;\n",
              "    }\n",
              "\n",
              "    .colab-df-convert:hover {\n",
              "      background-color: #E2EBFA;\n",
              "      box-shadow: 0px 1px 2px rgba(60, 64, 67, 0.3), 0px 1px 3px 1px rgba(60, 64, 67, 0.15);\n",
              "      fill: #174EA6;\n",
              "    }\n",
              "\n",
              "    .colab-df-buttons div {\n",
              "      margin-bottom: 4px;\n",
              "    }\n",
              "\n",
              "    [theme=dark] .colab-df-convert {\n",
              "      background-color: #3B4455;\n",
              "      fill: #D2E3FC;\n",
              "    }\n",
              "\n",
              "    [theme=dark] .colab-df-convert:hover {\n",
              "      background-color: #434B5C;\n",
              "      box-shadow: 0px 1px 3px 1px rgba(0, 0, 0, 0.15);\n",
              "      filter: drop-shadow(0px 1px 2px rgba(0, 0, 0, 0.3));\n",
              "      fill: #FFFFFF;\n",
              "    }\n",
              "  </style>\n",
              "\n",
              "    <script>\n",
              "      const buttonEl =\n",
              "        document.querySelector('#df-f9f8c377-4fbe-4b6a-ad4a-8263c48eb60a button.colab-df-convert');\n",
              "      buttonEl.style.display =\n",
              "        google.colab.kernel.accessAllowed ? 'block' : 'none';\n",
              "\n",
              "      async function convertToInteractive(key) {\n",
              "        const element = document.querySelector('#df-f9f8c377-4fbe-4b6a-ad4a-8263c48eb60a');\n",
              "        const dataTable =\n",
              "          await google.colab.kernel.invokeFunction('convertToInteractive',\n",
              "                                                    [key], {});\n",
              "        if (!dataTable) return;\n",
              "\n",
              "        const docLinkHtml = 'Like what you see? Visit the ' +\n",
              "          '<a target=\"_blank\" href=https://colab.research.google.com/notebooks/data_table.ipynb>data table notebook</a>'\n",
              "          + ' to learn more about interactive tables.';\n",
              "        element.innerHTML = '';\n",
              "        dataTable['output_type'] = 'display_data';\n",
              "        await google.colab.output.renderOutput(dataTable, element);\n",
              "        const docLink = document.createElement('div');\n",
              "        docLink.innerHTML = docLinkHtml;\n",
              "        element.appendChild(docLink);\n",
              "      }\n",
              "    </script>\n",
              "  </div>\n",
              "\n",
              "\n",
              "<div id=\"df-67996633-335a-4b0d-93e4-22e09cd99861\">\n",
              "  <button class=\"colab-df-quickchart\" onclick=\"quickchart('df-67996633-335a-4b0d-93e4-22e09cd99861')\"\n",
              "            title=\"Suggest charts\"\n",
              "            style=\"display:none;\">\n",
              "\n",
              "<svg xmlns=\"http://www.w3.org/2000/svg\" height=\"24px\"viewBox=\"0 0 24 24\"\n",
              "     width=\"24px\">\n",
              "    <g>\n",
              "        <path d=\"M19 3H5c-1.1 0-2 .9-2 2v14c0 1.1.9 2 2 2h14c1.1 0 2-.9 2-2V5c0-1.1-.9-2-2-2zM9 17H7v-7h2v7zm4 0h-2V7h2v10zm4 0h-2v-4h2v4z\"/>\n",
              "    </g>\n",
              "</svg>\n",
              "  </button>\n",
              "\n",
              "<style>\n",
              "  .colab-df-quickchart {\n",
              "      --bg-color: #E8F0FE;\n",
              "      --fill-color: #1967D2;\n",
              "      --hover-bg-color: #E2EBFA;\n",
              "      --hover-fill-color: #174EA6;\n",
              "      --disabled-fill-color: #AAA;\n",
              "      --disabled-bg-color: #DDD;\n",
              "  }\n",
              "\n",
              "  [theme=dark] .colab-df-quickchart {\n",
              "      --bg-color: #3B4455;\n",
              "      --fill-color: #D2E3FC;\n",
              "      --hover-bg-color: #434B5C;\n",
              "      --hover-fill-color: #FFFFFF;\n",
              "      --disabled-bg-color: #3B4455;\n",
              "      --disabled-fill-color: #666;\n",
              "  }\n",
              "\n",
              "  .colab-df-quickchart {\n",
              "    background-color: var(--bg-color);\n",
              "    border: none;\n",
              "    border-radius: 50%;\n",
              "    cursor: pointer;\n",
              "    display: none;\n",
              "    fill: var(--fill-color);\n",
              "    height: 32px;\n",
              "    padding: 0;\n",
              "    width: 32px;\n",
              "  }\n",
              "\n",
              "  .colab-df-quickchart:hover {\n",
              "    background-color: var(--hover-bg-color);\n",
              "    box-shadow: 0 1px 2px rgba(60, 64, 67, 0.3), 0 1px 3px 1px rgba(60, 64, 67, 0.15);\n",
              "    fill: var(--button-hover-fill-color);\n",
              "  }\n",
              "\n",
              "  .colab-df-quickchart-complete:disabled,\n",
              "  .colab-df-quickchart-complete:disabled:hover {\n",
              "    background-color: var(--disabled-bg-color);\n",
              "    fill: var(--disabled-fill-color);\n",
              "    box-shadow: none;\n",
              "  }\n",
              "\n",
              "  .colab-df-spinner {\n",
              "    border: 2px solid var(--fill-color);\n",
              "    border-color: transparent;\n",
              "    border-bottom-color: var(--fill-color);\n",
              "    animation:\n",
              "      spin 1s steps(1) infinite;\n",
              "  }\n",
              "\n",
              "  @keyframes spin {\n",
              "    0% {\n",
              "      border-color: transparent;\n",
              "      border-bottom-color: var(--fill-color);\n",
              "      border-left-color: var(--fill-color);\n",
              "    }\n",
              "    20% {\n",
              "      border-color: transparent;\n",
              "      border-left-color: var(--fill-color);\n",
              "      border-top-color: var(--fill-color);\n",
              "    }\n",
              "    30% {\n",
              "      border-color: transparent;\n",
              "      border-left-color: var(--fill-color);\n",
              "      border-top-color: var(--fill-color);\n",
              "      border-right-color: var(--fill-color);\n",
              "    }\n",
              "    40% {\n",
              "      border-color: transparent;\n",
              "      border-right-color: var(--fill-color);\n",
              "      border-top-color: var(--fill-color);\n",
              "    }\n",
              "    60% {\n",
              "      border-color: transparent;\n",
              "      border-right-color: var(--fill-color);\n",
              "    }\n",
              "    80% {\n",
              "      border-color: transparent;\n",
              "      border-right-color: var(--fill-color);\n",
              "      border-bottom-color: var(--fill-color);\n",
              "    }\n",
              "    90% {\n",
              "      border-color: transparent;\n",
              "      border-bottom-color: var(--fill-color);\n",
              "    }\n",
              "  }\n",
              "</style>\n",
              "\n",
              "  <script>\n",
              "    async function quickchart(key) {\n",
              "      const quickchartButtonEl =\n",
              "        document.querySelector('#' + key + ' button');\n",
              "      quickchartButtonEl.disabled = true;  // To prevent multiple clicks.\n",
              "      quickchartButtonEl.classList.add('colab-df-spinner');\n",
              "      try {\n",
              "        const charts = await google.colab.kernel.invokeFunction(\n",
              "            'suggestCharts', [key], {});\n",
              "      } catch (error) {\n",
              "        console.error('Error during call to suggestCharts:', error);\n",
              "      }\n",
              "      quickchartButtonEl.classList.remove('colab-df-spinner');\n",
              "      quickchartButtonEl.classList.add('colab-df-quickchart-complete');\n",
              "    }\n",
              "    (() => {\n",
              "      let quickchartButtonEl =\n",
              "        document.querySelector('#df-67996633-335a-4b0d-93e4-22e09cd99861 button');\n",
              "      quickchartButtonEl.style.display =\n",
              "        google.colab.kernel.accessAllowed ? 'block' : 'none';\n",
              "    })();\n",
              "  </script>\n",
              "</div>\n",
              "\n",
              "    </div>\n",
              "  </div>\n"
            ],
            "application/vnd.google.colaboratory.intrinsic+json": {
              "type": "dataframe",
              "repr_error": "0"
            }
          },
          "metadata": {},
          "execution_count": 4
        }
      ]
    },
    {
      "cell_type": "code",
      "source": [
        "#Drop uncessary columns\n",
        "BoardEx= BoardEx.drop(columns=['DirectorName','CompanyName','BrdPosition','RoleName','FulltextDescription','NED','HOCountryName','OrgType'])"
      ],
      "metadata": {
        "id": "Ym6VqMsQ61jd"
      },
      "execution_count": null,
      "outputs": []
    },
    {
      "cell_type": "code",
      "source": [
        "#Extract start year and end year of Director Employment\n",
        "\n",
        "BoardEx['DateEndRole'] = BoardEx['DateEndRole'].replace(regex='C', value=2024)\n",
        "BoardEx = BoardEx[BoardEx.DateStartRole != 'N']\n",
        "BoardEx = BoardEx[BoardEx.DateEndRole != 'N']\n",
        "\n",
        "BoardEx['DateStartRole']=BoardEx['DateStartRole'].astype('str')\n",
        "BoardEx['StartYear']= (BoardEx['DateStartRole'].str[:4])\n",
        "BoardEx['StartYear']= BoardEx['StartYear'].astype(int)\n",
        "\n",
        "BoardEx['DateEndRole']=BoardEx['DateEndRole'].astype('str')\n",
        "BoardEx['EndYear']= BoardEx['DateEndRole'].str[:4]\n",
        "BoardEx['EndYear']= BoardEx['EndYear'].astype(int)"
      ],
      "metadata": {
        "id": "zDJoO_T965-B"
      },
      "execution_count": null,
      "outputs": []
    },
    {
      "cell_type": "code",
      "source": [
        "### Drop records with null value in ISIN and Sector ###\n",
        "BoardEx= BoardEx.dropna(subset=['ISIN'])\n",
        "BoardEx= BoardEx.dropna(subset=['Sector'])\n"
      ],
      "metadata": {
        "id": "xYye4gGp68_3"
      },
      "execution_count": null,
      "outputs": []
    },
    {
      "cell_type": "code",
      "source": [
        "# Consolidate split records for directors with a continusous service period\n",
        "BoardEx = BoardEx.sort_values(by=['DirectorID', 'CompanyID', 'ISIN', 'StartYear'])\n",
        "BoardEx = BoardEx.groupby(['DirectorID', 'CompanyID', 'ISIN'], as_index=False).agg({'StartYear': 'min', 'EndYear': 'max', 'Sector': 'first'})\n",
        "\n",
        "print(BoardEx)\n"
      ],
      "metadata": {
        "colab": {
          "base_uri": "https://localhost:8080/"
        },
        "id": "MmxWntIk7Bj2",
        "outputId": "9346e14a-0f50-42bb-f544-bc5c77fbe75c"
      },
      "execution_count": null,
      "outputs": [
        {
          "output_type": "stream",
          "name": "stdout",
          "text": [
            "       DirectorID  CompanyID          ISIN  StartYear  EndYear  \\\n",
            "0              31        921  GB00B07YBS95       2010     2017   \n",
            "1              31      12273  GB00B68K3716       2010     2018   \n",
            "2              31      13785  GB0003292009       1998     2018   \n",
            "3              31      20013  GB0005630420       2011     2018   \n",
            "4              31      29697  GB0000684174       2000     2024   \n",
            "...           ...        ...           ...        ...      ...   \n",
            "51027     2872852      20844  GB0004657408       2024     2024   \n",
            "51028     2873106     110151  GB00BYQ0JC66       2024     2024   \n",
            "51029     2873303    2705616  GB00BDZRYX75       2024     2024   \n",
            "51030     2873623    1803884  GB00B42TN250       2024     2024   \n",
            "51031     2873739     110151  GB00BYQ0JC66       2024     2024   \n",
            "\n",
            "                           Sector  \n",
            "0            Investment Companies  \n",
            "1            Investment Companies  \n",
            "2            Investment Companies  \n",
            "3               Business Services  \n",
            "4            Investment Companies  \n",
            "...                           ...  \n",
            "51027           Business Services  \n",
            "51028                   Insurance  \n",
            "51029  Speciality & Other Finance  \n",
            "51030                      Mining  \n",
            "51031                   Insurance  \n",
            "\n",
            "[51032 rows x 6 columns]\n"
          ]
        }
      ]
    },
    {
      "cell_type": "code",
      "source": [
        "# dimension of the dataset\n",
        "BoardEx.describe()"
      ],
      "metadata": {
        "colab": {
          "base_uri": "https://localhost:8080/",
          "height": 297
        },
        "id": "jBpPvobhALE0",
        "outputId": "18fc67f9-dcc0-48f3-b261-f9cc9a8f74c3"
      },
      "execution_count": null,
      "outputs": [
        {
          "output_type": "execute_result",
          "data": {
            "text/plain": [
              "         DirectorID     CompanyID     StartYear       EndYear\n",
              "count  5.103200e+04  5.103200e+04  51032.000000  51032.000000\n",
              "mean   1.541620e+06  1.059275e+06   2016.636228   2021.860205\n",
              "std    8.208231e+05  1.219908e+06      5.011650      2.485713\n",
              "min    3.100000e+01  2.050000e+02   1963.000000   2017.000000\n",
              "25%    8.951210e+05  1.914600e+04   2014.000000   2020.000000\n",
              "50%    1.611466e+06  5.506860e+05   2017.000000   2023.000000\n",
              "75%    2.222793e+06  2.127413e+06   2020.000000   2024.000000\n",
              "max    2.873739e+06  3.805099e+06   2024.000000   2024.000000"
            ],
            "text/html": [
              "\n",
              "  <div id=\"df-b94c223b-b7e7-4ce7-b8c1-846bb34d5e4d\" class=\"colab-df-container\">\n",
              "    <div>\n",
              "<style scoped>\n",
              "    .dataframe tbody tr th:only-of-type {\n",
              "        vertical-align: middle;\n",
              "    }\n",
              "\n",
              "    .dataframe tbody tr th {\n",
              "        vertical-align: top;\n",
              "    }\n",
              "\n",
              "    .dataframe thead th {\n",
              "        text-align: right;\n",
              "    }\n",
              "</style>\n",
              "<table border=\"1\" class=\"dataframe\">\n",
              "  <thead>\n",
              "    <tr style=\"text-align: right;\">\n",
              "      <th></th>\n",
              "      <th>DirectorID</th>\n",
              "      <th>CompanyID</th>\n",
              "      <th>StartYear</th>\n",
              "      <th>EndYear</th>\n",
              "    </tr>\n",
              "  </thead>\n",
              "  <tbody>\n",
              "    <tr>\n",
              "      <th>count</th>\n",
              "      <td>5.103200e+04</td>\n",
              "      <td>5.103200e+04</td>\n",
              "      <td>51032.000000</td>\n",
              "      <td>51032.000000</td>\n",
              "    </tr>\n",
              "    <tr>\n",
              "      <th>mean</th>\n",
              "      <td>1.541620e+06</td>\n",
              "      <td>1.059275e+06</td>\n",
              "      <td>2016.636228</td>\n",
              "      <td>2021.860205</td>\n",
              "    </tr>\n",
              "    <tr>\n",
              "      <th>std</th>\n",
              "      <td>8.208231e+05</td>\n",
              "      <td>1.219908e+06</td>\n",
              "      <td>5.011650</td>\n",
              "      <td>2.485713</td>\n",
              "    </tr>\n",
              "    <tr>\n",
              "      <th>min</th>\n",
              "      <td>3.100000e+01</td>\n",
              "      <td>2.050000e+02</td>\n",
              "      <td>1963.000000</td>\n",
              "      <td>2017.000000</td>\n",
              "    </tr>\n",
              "    <tr>\n",
              "      <th>25%</th>\n",
              "      <td>8.951210e+05</td>\n",
              "      <td>1.914600e+04</td>\n",
              "      <td>2014.000000</td>\n",
              "      <td>2020.000000</td>\n",
              "    </tr>\n",
              "    <tr>\n",
              "      <th>50%</th>\n",
              "      <td>1.611466e+06</td>\n",
              "      <td>5.506860e+05</td>\n",
              "      <td>2017.000000</td>\n",
              "      <td>2023.000000</td>\n",
              "    </tr>\n",
              "    <tr>\n",
              "      <th>75%</th>\n",
              "      <td>2.222793e+06</td>\n",
              "      <td>2.127413e+06</td>\n",
              "      <td>2020.000000</td>\n",
              "      <td>2024.000000</td>\n",
              "    </tr>\n",
              "    <tr>\n",
              "      <th>max</th>\n",
              "      <td>2.873739e+06</td>\n",
              "      <td>3.805099e+06</td>\n",
              "      <td>2024.000000</td>\n",
              "      <td>2024.000000</td>\n",
              "    </tr>\n",
              "  </tbody>\n",
              "</table>\n",
              "</div>\n",
              "    <div class=\"colab-df-buttons\">\n",
              "\n",
              "  <div class=\"colab-df-container\">\n",
              "    <button class=\"colab-df-convert\" onclick=\"convertToInteractive('df-b94c223b-b7e7-4ce7-b8c1-846bb34d5e4d')\"\n",
              "            title=\"Convert this dataframe to an interactive table.\"\n",
              "            style=\"display:none;\">\n",
              "\n",
              "  <svg xmlns=\"http://www.w3.org/2000/svg\" height=\"24px\" viewBox=\"0 -960 960 960\">\n",
              "    <path d=\"M120-120v-720h720v720H120Zm60-500h600v-160H180v160Zm220 220h160v-160H400v160Zm0 220h160v-160H400v160ZM180-400h160v-160H180v160Zm440 0h160v-160H620v160ZM180-180h160v-160H180v160Zm440 0h160v-160H620v160Z\"/>\n",
              "  </svg>\n",
              "    </button>\n",
              "\n",
              "  <style>\n",
              "    .colab-df-container {\n",
              "      display:flex;\n",
              "      gap: 12px;\n",
              "    }\n",
              "\n",
              "    .colab-df-convert {\n",
              "      background-color: #E8F0FE;\n",
              "      border: none;\n",
              "      border-radius: 50%;\n",
              "      cursor: pointer;\n",
              "      display: none;\n",
              "      fill: #1967D2;\n",
              "      height: 32px;\n",
              "      padding: 0 0 0 0;\n",
              "      width: 32px;\n",
              "    }\n",
              "\n",
              "    .colab-df-convert:hover {\n",
              "      background-color: #E2EBFA;\n",
              "      box-shadow: 0px 1px 2px rgba(60, 64, 67, 0.3), 0px 1px 3px 1px rgba(60, 64, 67, 0.15);\n",
              "      fill: #174EA6;\n",
              "    }\n",
              "\n",
              "    .colab-df-buttons div {\n",
              "      margin-bottom: 4px;\n",
              "    }\n",
              "\n",
              "    [theme=dark] .colab-df-convert {\n",
              "      background-color: #3B4455;\n",
              "      fill: #D2E3FC;\n",
              "    }\n",
              "\n",
              "    [theme=dark] .colab-df-convert:hover {\n",
              "      background-color: #434B5C;\n",
              "      box-shadow: 0px 1px 3px 1px rgba(0, 0, 0, 0.15);\n",
              "      filter: drop-shadow(0px 1px 2px rgba(0, 0, 0, 0.3));\n",
              "      fill: #FFFFFF;\n",
              "    }\n",
              "  </style>\n",
              "\n",
              "    <script>\n",
              "      const buttonEl =\n",
              "        document.querySelector('#df-b94c223b-b7e7-4ce7-b8c1-846bb34d5e4d button.colab-df-convert');\n",
              "      buttonEl.style.display =\n",
              "        google.colab.kernel.accessAllowed ? 'block' : 'none';\n",
              "\n",
              "      async function convertToInteractive(key) {\n",
              "        const element = document.querySelector('#df-b94c223b-b7e7-4ce7-b8c1-846bb34d5e4d');\n",
              "        const dataTable =\n",
              "          await google.colab.kernel.invokeFunction('convertToInteractive',\n",
              "                                                    [key], {});\n",
              "        if (!dataTable) return;\n",
              "\n",
              "        const docLinkHtml = 'Like what you see? Visit the ' +\n",
              "          '<a target=\"_blank\" href=https://colab.research.google.com/notebooks/data_table.ipynb>data table notebook</a>'\n",
              "          + ' to learn more about interactive tables.';\n",
              "        element.innerHTML = '';\n",
              "        dataTable['output_type'] = 'display_data';\n",
              "        await google.colab.output.renderOutput(dataTable, element);\n",
              "        const docLink = document.createElement('div');\n",
              "        docLink.innerHTML = docLinkHtml;\n",
              "        element.appendChild(docLink);\n",
              "      }\n",
              "    </script>\n",
              "  </div>\n",
              "\n",
              "\n",
              "<div id=\"df-22945f30-00f4-463a-ac3d-a013e64b164f\">\n",
              "  <button class=\"colab-df-quickchart\" onclick=\"quickchart('df-22945f30-00f4-463a-ac3d-a013e64b164f')\"\n",
              "            title=\"Suggest charts\"\n",
              "            style=\"display:none;\">\n",
              "\n",
              "<svg xmlns=\"http://www.w3.org/2000/svg\" height=\"24px\"viewBox=\"0 0 24 24\"\n",
              "     width=\"24px\">\n",
              "    <g>\n",
              "        <path d=\"M19 3H5c-1.1 0-2 .9-2 2v14c0 1.1.9 2 2 2h14c1.1 0 2-.9 2-2V5c0-1.1-.9-2-2-2zM9 17H7v-7h2v7zm4 0h-2V7h2v10zm4 0h-2v-4h2v4z\"/>\n",
              "    </g>\n",
              "</svg>\n",
              "  </button>\n",
              "\n",
              "<style>\n",
              "  .colab-df-quickchart {\n",
              "      --bg-color: #E8F0FE;\n",
              "      --fill-color: #1967D2;\n",
              "      --hover-bg-color: #E2EBFA;\n",
              "      --hover-fill-color: #174EA6;\n",
              "      --disabled-fill-color: #AAA;\n",
              "      --disabled-bg-color: #DDD;\n",
              "  }\n",
              "\n",
              "  [theme=dark] .colab-df-quickchart {\n",
              "      --bg-color: #3B4455;\n",
              "      --fill-color: #D2E3FC;\n",
              "      --hover-bg-color: #434B5C;\n",
              "      --hover-fill-color: #FFFFFF;\n",
              "      --disabled-bg-color: #3B4455;\n",
              "      --disabled-fill-color: #666;\n",
              "  }\n",
              "\n",
              "  .colab-df-quickchart {\n",
              "    background-color: var(--bg-color);\n",
              "    border: none;\n",
              "    border-radius: 50%;\n",
              "    cursor: pointer;\n",
              "    display: none;\n",
              "    fill: var(--fill-color);\n",
              "    height: 32px;\n",
              "    padding: 0;\n",
              "    width: 32px;\n",
              "  }\n",
              "\n",
              "  .colab-df-quickchart:hover {\n",
              "    background-color: var(--hover-bg-color);\n",
              "    box-shadow: 0 1px 2px rgba(60, 64, 67, 0.3), 0 1px 3px 1px rgba(60, 64, 67, 0.15);\n",
              "    fill: var(--button-hover-fill-color);\n",
              "  }\n",
              "\n",
              "  .colab-df-quickchart-complete:disabled,\n",
              "  .colab-df-quickchart-complete:disabled:hover {\n",
              "    background-color: var(--disabled-bg-color);\n",
              "    fill: var(--disabled-fill-color);\n",
              "    box-shadow: none;\n",
              "  }\n",
              "\n",
              "  .colab-df-spinner {\n",
              "    border: 2px solid var(--fill-color);\n",
              "    border-color: transparent;\n",
              "    border-bottom-color: var(--fill-color);\n",
              "    animation:\n",
              "      spin 1s steps(1) infinite;\n",
              "  }\n",
              "\n",
              "  @keyframes spin {\n",
              "    0% {\n",
              "      border-color: transparent;\n",
              "      border-bottom-color: var(--fill-color);\n",
              "      border-left-color: var(--fill-color);\n",
              "    }\n",
              "    20% {\n",
              "      border-color: transparent;\n",
              "      border-left-color: var(--fill-color);\n",
              "      border-top-color: var(--fill-color);\n",
              "    }\n",
              "    30% {\n",
              "      border-color: transparent;\n",
              "      border-left-color: var(--fill-color);\n",
              "      border-top-color: var(--fill-color);\n",
              "      border-right-color: var(--fill-color);\n",
              "    }\n",
              "    40% {\n",
              "      border-color: transparent;\n",
              "      border-right-color: var(--fill-color);\n",
              "      border-top-color: var(--fill-color);\n",
              "    }\n",
              "    60% {\n",
              "      border-color: transparent;\n",
              "      border-right-color: var(--fill-color);\n",
              "    }\n",
              "    80% {\n",
              "      border-color: transparent;\n",
              "      border-right-color: var(--fill-color);\n",
              "      border-bottom-color: var(--fill-color);\n",
              "    }\n",
              "    90% {\n",
              "      border-color: transparent;\n",
              "      border-bottom-color: var(--fill-color);\n",
              "    }\n",
              "  }\n",
              "</style>\n",
              "\n",
              "  <script>\n",
              "    async function quickchart(key) {\n",
              "      const quickchartButtonEl =\n",
              "        document.querySelector('#' + key + ' button');\n",
              "      quickchartButtonEl.disabled = true;  // To prevent multiple clicks.\n",
              "      quickchartButtonEl.classList.add('colab-df-spinner');\n",
              "      try {\n",
              "        const charts = await google.colab.kernel.invokeFunction(\n",
              "            'suggestCharts', [key], {});\n",
              "      } catch (error) {\n",
              "        console.error('Error during call to suggestCharts:', error);\n",
              "      }\n",
              "      quickchartButtonEl.classList.remove('colab-df-spinner');\n",
              "      quickchartButtonEl.classList.add('colab-df-quickchart-complete');\n",
              "    }\n",
              "    (() => {\n",
              "      let quickchartButtonEl =\n",
              "        document.querySelector('#df-22945f30-00f4-463a-ac3d-a013e64b164f button');\n",
              "      quickchartButtonEl.style.display =\n",
              "        google.colab.kernel.accessAllowed ? 'block' : 'none';\n",
              "    })();\n",
              "  </script>\n",
              "</div>\n",
              "\n",
              "    </div>\n",
              "  </div>\n"
            ],
            "application/vnd.google.colaboratory.intrinsic+json": {
              "type": "dataframe",
              "summary": "{\n  \"name\": \"BoardEx\",\n  \"rows\": 8,\n  \"fields\": [\n    {\n      \"column\": \"DirectorID\",\n      \"properties\": {\n        \"dtype\": \"number\",\n        \"std\": 1007727.1875650763,\n        \"min\": 31.0,\n        \"max\": 2873739.0,\n        \"num_unique_values\": 8,\n        \"samples\": [\n          1541619.7809217747,\n          1611465.5,\n          51032.0\n        ],\n        \"semantic_type\": \"\",\n        \"description\": \"\"\n      }\n    },\n    {\n      \"column\": \"CompanyID\",\n      \"properties\": {\n        \"dtype\": \"number\",\n        \"std\": 1318490.1812628296,\n        \"min\": 205.0,\n        \"max\": 3805099.0,\n        \"num_unique_values\": 8,\n        \"samples\": [\n          1059275.336122433,\n          550686.0,\n          51032.0\n        ],\n        \"semantic_type\": \"\",\n        \"description\": \"\"\n      }\n    },\n    {\n      \"column\": \"StartYear\",\n      \"properties\": {\n        \"dtype\": \"number\",\n        \"std\": 17447.54258913424,\n        \"min\": 5.011649811648628,\n        \"max\": 51032.0,\n        \"num_unique_values\": 8,\n        \"samples\": [\n          2016.6362282489417,\n          2017.0,\n          51032.0\n        ],\n        \"semantic_type\": \"\",\n        \"description\": \"\"\n      }\n    },\n    {\n      \"column\": \"EndYear\",\n      \"properties\": {\n        \"dtype\": \"number\",\n        \"std\": 17444.075926313122,\n        \"min\": 2.4857127562773025,\n        \"max\": 51032.0,\n        \"num_unique_values\": 7,\n        \"samples\": [\n          51032.0,\n          2021.860205361342,\n          2023.0\n        ],\n        \"semantic_type\": \"\",\n        \"description\": \"\"\n      }\n    }\n  ]\n}"
            }
          },
          "metadata": {},
          "execution_count": 9
        }
      ]
    },
    {
      "cell_type": "code",
      "source": [
        "#Create a new record for every year a director was active for the period 2017 - 2024\n",
        "\n",
        "B1 = BoardEx[['DirectorID','CompanyID', 'StartYear','EndYear', 'ISIN', 'Sector']].copy()\n",
        "BoardExY = pd.DataFrame()\n",
        "\n",
        "for year in range(2017, 2025):\n",
        "    B1 = BoardEx[['DirectorID','CompanyID', 'StartYear','EndYear', 'ISIN', 'Sector']].copy()\n",
        "    mask = (B1['StartYear'] <= year) & (B1['EndYear'] >= year)\n",
        "    B1 = B1[mask]\n",
        "    B1['year'] = year\n",
        "    BoardExY = pd.concat([BoardExY, B1], ignore_index=True)"
      ],
      "metadata": {
        "id": "rmDjss8y7zjW"
      },
      "execution_count": null,
      "outputs": []
    },
    {
      "cell_type": "code",
      "source": [
        "print(BoardExY)"
      ],
      "metadata": {
        "colab": {
          "base_uri": "https://localhost:8080/"
        },
        "id": "EMvNHSlEA-AH",
        "outputId": "2b116198-7428-4ae7-a3ef-e6c36451a2d2"
      },
      "execution_count": null,
      "outputs": [
        {
          "output_type": "stream",
          "name": "stdout",
          "text": [
            "        DirectorID  CompanyID  StartYear  EndYear          ISIN  \\\n",
            "0               31        921       2010     2017  GB00B07YBS95   \n",
            "1               31      12273       2010     2018  GB00B68K3716   \n",
            "2               31      13785       1998     2018  GB0003292009   \n",
            "3               31      20013       2011     2018  GB0005630420   \n",
            "4               31      29697       2000     2024  GB0000684174   \n",
            "...            ...        ...        ...      ...           ...   \n",
            "214966     2872852      20844       2024     2024  GB0004657408   \n",
            "214967     2873106     110151       2024     2024  GB00BYQ0JC66   \n",
            "214968     2873303    2705616       2024     2024  GB00BDZRYX75   \n",
            "214969     2873623    1803884       2024     2024  GB00B42TN250   \n",
            "214970     2873739     110151       2024     2024  GB00BYQ0JC66   \n",
            "\n",
            "                            Sector  year  \n",
            "0             Investment Companies  2017  \n",
            "1             Investment Companies  2017  \n",
            "2             Investment Companies  2017  \n",
            "3                Business Services  2017  \n",
            "4             Investment Companies  2017  \n",
            "...                            ...   ...  \n",
            "214966           Business Services  2024  \n",
            "214967                   Insurance  2024  \n",
            "214968  Speciality & Other Finance  2024  \n",
            "214969                      Mining  2024  \n",
            "214970                   Insurance  2024  \n",
            "\n",
            "[214971 rows x 7 columns]\n"
          ]
        }
      ]
    },
    {
      "cell_type": "code",
      "source": [
        "# Count the number of distinct active directors by year\n",
        "unique_directors_by_year = {}\n",
        "\n",
        "for year in range(2017, 2025):\n",
        "    active_directors = BoardExY[(BoardExY['StartYear'] <= year) & (BoardExY['EndYear'] >= year)]\n",
        "\n",
        "    unique_directors_count = active_directors['DirectorID'].nunique()\n",
        "\n",
        "    unique_directors_by_year[year] = unique_directors_count\n",
        "\n",
        "unique_directors_df = pd.DataFrame(list(unique_directors_by_year.items()), columns=['Year', 'Unique Active Directors'])\n",
        "\n",
        "print(unique_directors_df)"
      ],
      "metadata": {
        "colab": {
          "base_uri": "https://localhost:8080/"
        },
        "id": "jeAxj05hGm68",
        "outputId": "76db30a6-c309-49a1-82e3-a42a9ac15d29"
      },
      "execution_count": null,
      "outputs": [
        {
          "output_type": "stream",
          "name": "stdout",
          "text": [
            "   Year  Unique Active Directors\n",
            "0  2017                    22587\n",
            "1  2018                    22896\n",
            "2  2019                    22659\n",
            "3  2020                    22183\n",
            "4  2021                    23016\n",
            "5  2022                    22965\n",
            "6  2023                    22030\n",
            "7  2024                    20067\n"
          ]
        }
      ]
    },
    {
      "cell_type": "code",
      "source": [
        "# Count the number of distinct active directors by year\n",
        "unique_companies_by_year = {}\n",
        "\n",
        "for year in range(2017, 2025):\n",
        "    active_companies = BoardExY[(BoardExY['StartYear'] <= year) & (BoardExY['EndYear'] >= year)]\n",
        "\n",
        "    unique_companies_count = active_companies['CompanyID'].nunique()\n",
        "\n",
        "    unique_companies_by_year[year] = unique_companies_count\n",
        "\n",
        "unique_companies_df = pd.DataFrame(list(unique_companies_by_year.items()), columns=['Year', 'Unique Active Companies'])\n",
        "\n",
        "print(unique_companies_df)\n"
      ],
      "metadata": {
        "colab": {
          "base_uri": "https://localhost:8080/"
        },
        "id": "Qpdb--MFHWlg",
        "outputId": "2d8d532e-7aae-451a-bc72-28b2feb72123"
      },
      "execution_count": null,
      "outputs": [
        {
          "output_type": "stream",
          "name": "stdout",
          "text": [
            "   Year  Unique Active Companies\n",
            "0  2017                     1647\n",
            "1  2018                     1673\n",
            "2  2019                     1636\n",
            "3  2020                     1605\n",
            "4  2021                     1668\n",
            "5  2022                     1649\n",
            "6  2023                     1593\n",
            "7  2024                     1503\n"
          ]
        }
      ]
    },
    {
      "cell_type": "code",
      "source": [
        "#Drop 'StartYear','EndYear' as replaced by the column 'year'\n",
        "BoardExY= BoardExY.drop(columns=['StartYear','EndYear'])\n",
        "#Drop any duplicate records (same director, company, and year)\n",
        "BoardExY= BoardExY.drop_duplicates(subset=['year', 'ISIN', 'DirectorID', 'Sector'], keep='last')"
      ],
      "metadata": {
        "id": "TRzOPL008ogE",
        "colab": {
          "base_uri": "https://localhost:8080/",
          "height": 173
        },
        "outputId": "d1834458-2576-42b7-b680-fb2545b3af64"
      },
      "execution_count": 1,
      "outputs": [
        {
          "output_type": "error",
          "ename": "NameError",
          "evalue": "name 'BoardExY' is not defined",
          "traceback": [
            "\u001b[0;31m---------------------------------------------------------------------------\u001b[0m",
            "\u001b[0;31mNameError\u001b[0m                                 Traceback (most recent call last)",
            "\u001b[0;32m<ipython-input-1-54d540ee5e34>\u001b[0m in \u001b[0;36m<cell line: 1>\u001b[0;34m()\u001b[0m\n\u001b[0;32m----> 1\u001b[0;31m \u001b[0mBoardExY\u001b[0m\u001b[0;34m=\u001b[0m \u001b[0mBoardExY\u001b[0m\u001b[0;34m.\u001b[0m\u001b[0mdrop\u001b[0m\u001b[0;34m(\u001b[0m\u001b[0mcolumns\u001b[0m\u001b[0;34m=\u001b[0m\u001b[0;34m[\u001b[0m\u001b[0;34m'StartYear'\u001b[0m\u001b[0;34m,\u001b[0m\u001b[0;34m'EndYear'\u001b[0m\u001b[0;34m]\u001b[0m\u001b[0;34m)\u001b[0m\u001b[0;34m\u001b[0m\u001b[0;34m\u001b[0m\u001b[0m\n\u001b[0m\u001b[1;32m      2\u001b[0m \u001b[0;34m\u001b[0m\u001b[0m\n\u001b[1;32m      3\u001b[0m \u001b[0mBoardExY\u001b[0m\u001b[0;34m=\u001b[0m \u001b[0mBoardExY\u001b[0m\u001b[0;34m.\u001b[0m\u001b[0mdrop_duplicates\u001b[0m\u001b[0;34m(\u001b[0m\u001b[0msubset\u001b[0m\u001b[0;34m=\u001b[0m\u001b[0;34m[\u001b[0m\u001b[0;34m'year'\u001b[0m\u001b[0;34m,\u001b[0m \u001b[0;34m'ISIN'\u001b[0m\u001b[0;34m,\u001b[0m \u001b[0;34m'DirectorID'\u001b[0m\u001b[0;34m,\u001b[0m \u001b[0;34m'Sector'\u001b[0m\u001b[0;34m]\u001b[0m\u001b[0;34m,\u001b[0m \u001b[0mkeep\u001b[0m\u001b[0;34m=\u001b[0m\u001b[0;34m'last'\u001b[0m\u001b[0;34m)\u001b[0m\u001b[0;34m\u001b[0m\u001b[0;34m\u001b[0m\u001b[0m\n",
            "\u001b[0;31mNameError\u001b[0m: name 'BoardExY' is not defined"
          ]
        }
      ]
    },
    {
      "cell_type": "code",
      "source": [
        "print(BoardExY)"
      ],
      "metadata": {
        "colab": {
          "base_uri": "https://localhost:8080/"
        },
        "id": "DLRh_OxOBik6",
        "outputId": "30d4082a-7f45-4b82-ab72-1cafa7ddfa9a"
      },
      "execution_count": null,
      "outputs": [
        {
          "output_type": "stream",
          "name": "stdout",
          "text": [
            "        DirectorID  CompanyID          ISIN                      Sector  year\n",
            "0               31        921  GB00B07YBS95        Investment Companies  2017\n",
            "1               31      12273  GB00B68K3716        Investment Companies  2017\n",
            "2               31      13785  GB0003292009        Investment Companies  2017\n",
            "3               31      20013  GB0005630420           Business Services  2017\n",
            "4               31      29697  GB0000684174        Investment Companies  2017\n",
            "...            ...        ...           ...                         ...   ...\n",
            "214966     2872852      20844  GB0004657408           Business Services  2024\n",
            "214967     2873106     110151  GB00BYQ0JC66                   Insurance  2024\n",
            "214968     2873303    2705616  GB00BDZRYX75  Speciality & Other Finance  2024\n",
            "214969     2873623    1803884  GB00B42TN250                      Mining  2024\n",
            "214970     2873739     110151  GB00BYQ0JC66                   Insurance  2024\n",
            "\n",
            "[214971 rows x 5 columns]\n"
          ]
        }
      ]
    },
    {
      "cell_type": "markdown",
      "source": [
        "### **Build Direct Connections Sub-Network**"
      ],
      "metadata": {
        "id": "QrHhXwUpFpWc"
      }
    },
    {
      "cell_type": "code",
      "source": [
        "B1= BoardExY[['DirectorID','ISIN', 'year', 'Sector']].copy()\n",
        "B2= BoardExY[['DirectorID','ISIN', 'year', 'Sector']].copy()\n",
        "Newlist= pd.DataFrame()\n",
        "FinalSN=pd.DataFrame()"
      ],
      "metadata": {
        "id": "cFv-DbA989-s"
      },
      "execution_count": null,
      "outputs": []
    },
    {
      "cell_type": "code",
      "source": [
        "#Create dyads (a record for each pair of companies connected by a shared director)\n",
        "FinalSN = pd.DataFrame()\n",
        "\n",
        "for year in range(2017, 2025):\n",
        "    B1 = BoardExY[['DirectorID', 'ISIN', 'year', 'Sector']].copy()\n",
        "    B2 = BoardExY[['DirectorID', 'ISIN', 'year', 'Sector']].copy()\n",
        "    B1 = B1[B1['year'] == year]\n",
        "    B2 = B2[B2['year'] == year]\n",
        "    Newlist = pd.merge(B1, B2, how='inner', on='DirectorID')\n",
        "    FinalSN = pd.concat([FinalSN, Newlist], ignore_index=True)"
      ],
      "metadata": {
        "id": "D6IZTERP9C_u"
      },
      "execution_count": null,
      "outputs": []
    },
    {
      "cell_type": "code",
      "source": [
        "# Drop the 'year_y' column and rename 'year_x' to 'year'\n",
        "FinalSN = FinalSN.drop(columns=['year_y']).rename(columns={'year_x': 'year'})"
      ],
      "metadata": {
        "id": "YwpqSyNm9D93"
      },
      "execution_count": null,
      "outputs": []
    },
    {
      "cell_type": "code",
      "source": [
        "# Remove self-loops (company connected to itself)\n",
        "FinalSN = FinalSN[FinalSN['ISIN_x'] != FinalSN['ISIN_y']]"
      ],
      "metadata": {
        "id": "xGqx0btN9Gbd"
      },
      "execution_count": null,
      "outputs": []
    },
    {
      "cell_type": "code",
      "source": [
        "# Create a new column with sorted ISIN pairs to handle (ISIN_x, ISIN_y) and (ISIN_y, ISIN_x) equivalence\n",
        "FinalSN['sorted_ISIN'] = FinalSN.apply(lambda row: tuple(sorted([row['ISIN_x'], row['ISIN_y']])), axis=1)"
      ],
      "metadata": {
        "id": "bciiko9S9IEJ"
      },
      "execution_count": null,
      "outputs": []
    },
    {
      "cell_type": "code",
      "source": [
        "# Calculate the edge weight by counting the number of distinct shared directors between any pair of companies\n",
        "weights = FinalSN.groupby(['sorted_ISIN', 'year'])['DirectorID'].nunique().reset_index(name='Weight')\n",
        "\n",
        "# Merge the calculated weights back to the original DataFrame\n",
        "FinalSN = pd.merge(FinalSN, weights, on=['sorted_ISIN', 'year'])\n"
      ],
      "metadata": {
        "id": "HRuD-v5c9MdE"
      },
      "execution_count": null,
      "outputs": []
    },
    {
      "cell_type": "code",
      "source": [
        "# Drop duplicates based on sorted ISIN pairs and year to ensure only a single edge exists between a pair of companies (no duplicate edges)\n",
        "FinalSN.drop_duplicates(subset=['sorted_ISIN', 'year'], inplace=True)\n"
      ],
      "metadata": {
        "id": "E3iELsfZ9OUa"
      },
      "execution_count": null,
      "outputs": []
    },
    {
      "cell_type": "code",
      "source": [
        "# Drop the temporary sorted_ISIN column\n",
        "FinalSN.drop(columns=['sorted_ISIN'], inplace=True)"
      ],
      "metadata": {
        "id": "DVYstf5y9Qm7"
      },
      "execution_count": null,
      "outputs": []
    },
    {
      "cell_type": "code",
      "source": [
        "print(FinalSN)"
      ],
      "metadata": {
        "colab": {
          "base_uri": "https://localhost:8080/"
        },
        "id": "uLVbmezq9SSx",
        "outputId": "8d36d3ed-bc92-4281-ece7-28090411b99d"
      },
      "execution_count": null,
      "outputs": [
        {
          "output_type": "stream",
          "name": "stdout",
          "text": [
            "        DirectorID        ISIN_x  year                    Sector_x  \\\n",
            "0               31  GB00B07YBS95  2017        Investment Companies   \n",
            "2               31  GB00B07YBS95  2017        Investment Companies   \n",
            "4               31  GB00B07YBS95  2017        Investment Companies   \n",
            "6               31  GB00B07YBS95  2017        Investment Companies   \n",
            "8               31  GB00B07YBS95  2017        Investment Companies   \n",
            "...            ...           ...   ...                         ...   \n",
            "107998     2817587  GB0031152027  2024        Investment Companies   \n",
            "108000     2845609  GB00BNKT5L33  2024                   Oil & Gas   \n",
            "108002     2850202  GB0007388407  2024  Speciality & Other Finance   \n",
            "108004     2869566  GB00BPQY8M80  2024              Life Assurance   \n",
            "108006     2869566  GB00BPQY8M80  2024              Life Assurance   \n",
            "\n",
            "              ISIN_y                    Sector_y  Weight  \n",
            "0       GB00B68K3716        Investment Companies       1  \n",
            "2       GB0003292009        Investment Companies       1  \n",
            "4       GB0005630420           Business Services       1  \n",
            "6       GB0000684174        Investment Companies       1  \n",
            "8       GB00B1RTFN43        Investment Companies       1  \n",
            "...              ...                         ...     ...  \n",
            "107998  GB00BSL71W47  Speciality & Other Finance       1  \n",
            "108000  GB00B03CJS30                   Oil & Gas       1  \n",
            "108002  GB00B1RTFN43        Investment Companies       1  \n",
            "108004  GB0003032264                   Insurance       1  \n",
            "108006  GB0003035382                   Insurance       1  \n",
            "\n",
            "[34025 rows x 7 columns]\n"
          ]
        }
      ]
    },
    {
      "cell_type": "code",
      "source": [
        "file_path = '/content/drive/My Drive/FinalSN.csv'\n",
        "\n",
        "FinalSN.to_csv(file_path, index=False)"
      ],
      "metadata": {
        "id": "0GWYXIb__4Yi"
      },
      "execution_count": null,
      "outputs": []
    },
    {
      "cell_type": "code",
      "source": [
        "#Count the number of distinct companies by year\n",
        "unique_isin_x_by_year = FinalSN.groupby('year')['ISIN_x'].nunique().reset_index()\n",
        "unique_isin_x_by_year.columns = ['Year', 'Unique_ISIN_x_Count']\n",
        "\n",
        "unique_isin_y_by_year = FinalSN.groupby('year')['ISIN_y'].nunique().reset_index()\n",
        "unique_isin_y_by_year.columns = ['Year', 'Unique_ISIN_y_Count']\n",
        "\n",
        "unique_isins_by_year = pd.merge(unique_isin_x_by_year, unique_isin_y_by_year, on='Year')\n",
        "\n",
        "print(unique_isins_by_year)\n"
      ],
      "metadata": {
        "colab": {
          "base_uri": "https://localhost:8080/"
        },
        "id": "_j-ybBr5-315",
        "outputId": "c8c912ea-f60d-4fc0-e448-cccaec751712"
      },
      "execution_count": null,
      "outputs": [
        {
          "output_type": "stream",
          "name": "stdout",
          "text": [
            "   Year  Unique_ISIN_x_Count  Unique_ISIN_y_Count\n",
            "0  2017                 1146                 1206\n",
            "1  2018                 1187                 1238\n",
            "2  2019                 1164                 1197\n",
            "3  2020                 1151                 1172\n",
            "4  2021                 1193                 1235\n",
            "5  2022                 1183                 1241\n",
            "6  2023                 1129                 1182\n",
            "7  2024                 1023                 1088\n"
          ]
        }
      ]
    },
    {
      "cell_type": "markdown",
      "source": [
        "# **Build Indirect Connections Sub-Network**"
      ],
      "metadata": {
        "id": "LnWvPD-orYSB"
      }
    },
    {
      "cell_type": "code",
      "source": [
        "SN1= FinalSN[['ISIN_x','year','ISIN_y']].copy()\n",
        "SN2= FinalSN[['ISIN_x','year','ISIN_y']].copy()\n",
        "SN2.rename(columns={'ISIN_x':'ISIN_z'}, inplace=True)"
      ],
      "metadata": {
        "id": "N2_CrQwfPbYr"
      },
      "execution_count": null,
      "outputs": []
    },
    {
      "cell_type": "code",
      "source": [
        "#Create a new record for every instance two companies are connected to the same third company\n",
        "SNTemp = pd.DataFrame()\n",
        "SNCO3 = pd.DataFrame()\n",
        "\n",
        "for year1 in range(2017, 2025):\n",
        "    SN1 = FinalSN[['ISIN_x', 'year', 'ISIN_y']].copy()\n",
        "    SN2 = FinalSN[['ISIN_x', 'year', 'ISIN_y']].copy()\n",
        "    SN2.rename(columns={'ISIN_x': 'ISIN_z'}, inplace=True)\n",
        "\n",
        "    mask = (SN1['year'] == year1)\n",
        "    mask2 = (SN2['year'] == year1)\n",
        "\n",
        "    SN1 = SN1[mask]\n",
        "    SN2 = SN2[mask2]\n",
        "\n",
        "    SNTemp = pd.merge(SN1, SN2, how='inner', on=['ISIN_y','year'])\n",
        "\n",
        "    SNCO3 = pd.concat([SNCO3, SNTemp], ignore_index=True)"
      ],
      "metadata": {
        "id": "gIxUgfg6rgXo"
      },
      "execution_count": null,
      "outputs": []
    },
    {
      "cell_type": "code",
      "source": [
        "file_path = '/content/drive/My Drive/SNC03v1.csv'\n",
        "\n",
        "SNCO3.to_csv(file_path, index=False)"
      ],
      "metadata": {
        "id": "U9jhNJAW7D1-"
      },
      "execution_count": null,
      "outputs": []
    },
    {
      "cell_type": "code",
      "source": [
        "#Calulate the weight of indirect connections by counting the mean of the total shared directors a pair of companies share with all intermediary companies\n",
        "\n",
        "# Merge SNCO3 with FinalSN to get weights for (ISIN_x, ISIN_y)\n",
        "merged_x = pd.merge(SNCO3, FinalSN, how='left',\n",
        "                    left_on=['ISIN_x', 'ISIN_y', 'year'],\n",
        "                    right_on=['ISIN_x', 'ISIN_y', 'year'])\n",
        "\n",
        "# Merge SNCO3 with FinalSN to get weights for (ISIN_z, ISIN_y)\n",
        "merged_z = pd.merge(SNCO3, FinalSN, how='left',\n",
        "                    left_on=['ISIN_z', 'ISIN_y', 'year'],\n",
        "                    right_on=['ISIN_x', 'ISIN_y', 'year'],\n",
        "                    suffixes=('_x', '_z'))\n",
        "\n",
        "# Fill missing weights with 0\n",
        "merged_x['Weight'] = merged_x['Weight'].fillna(0)\n",
        "merged_z['Weight'] = merged_z['Weight'].fillna(0)\n",
        "\n",
        "# Add weights for both parts\n",
        "merged_x['Total_Weight'] = merged_x['Weight'] + merged_z['Weight']\n",
        "\n",
        "# Append Total_Weight to SNCO3\n",
        "SNCO3['Weight'] = merged_x['Total_Weight'].values\n",
        "\n",
        "# Divide by 2 to get the mean weight (each company in the pair is connected to an intermediary - 2 direct links)\n",
        "SNCO3['Weight'] = SNCO3['Weight'] / 2\n",
        "\n"
      ],
      "metadata": {
        "id": "RPEme6cWkYOn"
      },
      "execution_count": null,
      "outputs": []
    },
    {
      "cell_type": "code",
      "source": [
        "print(SNCO3)"
      ],
      "metadata": {
        "colab": {
          "base_uri": "https://localhost:8080/"
        },
        "id": "imXvKSAcX3gL",
        "outputId": "332bf89d-468c-4fcb-d9b5-bd76e9270878"
      },
      "execution_count": null,
      "outputs": [
        {
          "output_type": "stream",
          "name": "stdout",
          "text": [
            "              ISIN_x  year        ISIN_y        ISIN_z  Weight\n",
            "0       GB00B07YBS95  2017  GB00B68K3716  GB00B07YBS95     1.0\n",
            "1       GB00B07YBS95  2017  GB0003292009  GB00B07YBS95     1.0\n",
            "2       GB00B07YBS95  2017  GB0003292009  GB00B68K3716     1.0\n",
            "3       GB00B07YBS95  2017  GB0003292009  GB0000059971     1.0\n",
            "4       GB00B07YBS95  2017  GB0003292009  GB0006039597     1.0\n",
            "...              ...   ...           ...           ...     ...\n",
            "210924  GB00BKM6CG53  2024  GB00BN11T727  GB00BN7DVG54     1.0\n",
            "210925  GB00BN7DVG54  2024  GB00BN11T727  GB00BKM6CG53     1.0\n",
            "210926  GB00BN7DVG54  2024  GB00BN11T727  GB00BN7DVG54     1.0\n",
            "210927  GB00BNKT5L33  2024  GB00B03CJS30  GB00BNKT5L33     1.0\n",
            "210928  GB00BPQY8M80  2024  GB0003032264  GB00BPQY8M80     1.0\n",
            "\n",
            "[210929 rows x 5 columns]\n"
          ]
        }
      ]
    },
    {
      "cell_type": "code",
      "source": [
        "#Drop records where ISIN_x = ISIN_z  or ISIN_y (intermediary company) = ISIN_z\n",
        "SNCO3_filtered = SNCO3[(SNCO3['ISIN_x'] != SNCO3['ISIN_z']) & (SNCO3['ISIN_y'] != SNCO3['ISIN_z'])]\n",
        "\n",
        "# Sum weights by year for records with the same combination of ISIN_x and ISIN_z\n",
        "SNCO3= SNCO3_filtered.groupby(['ISIN_x', 'ISIN_z', 'year'])['Weight'].sum().reset_index()"
      ],
      "metadata": {
        "id": "SjEN-JfxZ4ft"
      },
      "execution_count": null,
      "outputs": []
    },
    {
      "cell_type": "code",
      "source": [
        "SNCO3"
      ],
      "metadata": {
        "colab": {
          "base_uri": "https://localhost:8080/",
          "height": 419
        },
        "id": "SRI6qosdcCnM",
        "outputId": "21ac8729-83e5-421b-c108-8ec006f64d1d"
      },
      "execution_count": null,
      "outputs": [
        {
          "output_type": "execute_result",
          "data": {
            "text/plain": [
              "              ISIN_x        ISIN_z  year  Weight\n",
              "0       AU0000004772  AU0000025231  2020     6.0\n",
              "1       AU0000004772  AU0000025231  2021     7.5\n",
              "2       AU0000004772  BMG022411000  2019     4.0\n",
              "3       AU0000004772  BMG022411000  2020     6.0\n",
              "4       AU0000004772  BMG022411000  2021     7.5\n",
              "...              ...           ...   ...     ...\n",
              "120999  ZAE000081949  US0463531089  2020     1.0\n",
              "121000  ZAE000081949  US0463531089  2021     1.0\n",
              "121001  ZAE000081949  US0463531089  2022     1.0\n",
              "121002  ZAE000081949  US0463531089  2023     1.0\n",
              "121003  ZAE000081949  US0463531089  2024     1.0\n",
              "\n",
              "[121004 rows x 4 columns]"
            ],
            "text/html": [
              "\n",
              "  <div id=\"df-e7017211-0164-4171-8bb6-86bc55f32acf\" class=\"colab-df-container\">\n",
              "    <div>\n",
              "<style scoped>\n",
              "    .dataframe tbody tr th:only-of-type {\n",
              "        vertical-align: middle;\n",
              "    }\n",
              "\n",
              "    .dataframe tbody tr th {\n",
              "        vertical-align: top;\n",
              "    }\n",
              "\n",
              "    .dataframe thead th {\n",
              "        text-align: right;\n",
              "    }\n",
              "</style>\n",
              "<table border=\"1\" class=\"dataframe\">\n",
              "  <thead>\n",
              "    <tr style=\"text-align: right;\">\n",
              "      <th></th>\n",
              "      <th>ISIN_x</th>\n",
              "      <th>ISIN_z</th>\n",
              "      <th>year</th>\n",
              "      <th>Weight</th>\n",
              "    </tr>\n",
              "  </thead>\n",
              "  <tbody>\n",
              "    <tr>\n",
              "      <th>0</th>\n",
              "      <td>AU0000004772</td>\n",
              "      <td>AU0000025231</td>\n",
              "      <td>2020</td>\n",
              "      <td>6.0</td>\n",
              "    </tr>\n",
              "    <tr>\n",
              "      <th>1</th>\n",
              "      <td>AU0000004772</td>\n",
              "      <td>AU0000025231</td>\n",
              "      <td>2021</td>\n",
              "      <td>7.5</td>\n",
              "    </tr>\n",
              "    <tr>\n",
              "      <th>2</th>\n",
              "      <td>AU0000004772</td>\n",
              "      <td>BMG022411000</td>\n",
              "      <td>2019</td>\n",
              "      <td>4.0</td>\n",
              "    </tr>\n",
              "    <tr>\n",
              "      <th>3</th>\n",
              "      <td>AU0000004772</td>\n",
              "      <td>BMG022411000</td>\n",
              "      <td>2020</td>\n",
              "      <td>6.0</td>\n",
              "    </tr>\n",
              "    <tr>\n",
              "      <th>4</th>\n",
              "      <td>AU0000004772</td>\n",
              "      <td>BMG022411000</td>\n",
              "      <td>2021</td>\n",
              "      <td>7.5</td>\n",
              "    </tr>\n",
              "    <tr>\n",
              "      <th>...</th>\n",
              "      <td>...</td>\n",
              "      <td>...</td>\n",
              "      <td>...</td>\n",
              "      <td>...</td>\n",
              "    </tr>\n",
              "    <tr>\n",
              "      <th>120999</th>\n",
              "      <td>ZAE000081949</td>\n",
              "      <td>US0463531089</td>\n",
              "      <td>2020</td>\n",
              "      <td>1.0</td>\n",
              "    </tr>\n",
              "    <tr>\n",
              "      <th>121000</th>\n",
              "      <td>ZAE000081949</td>\n",
              "      <td>US0463531089</td>\n",
              "      <td>2021</td>\n",
              "      <td>1.0</td>\n",
              "    </tr>\n",
              "    <tr>\n",
              "      <th>121001</th>\n",
              "      <td>ZAE000081949</td>\n",
              "      <td>US0463531089</td>\n",
              "      <td>2022</td>\n",
              "      <td>1.0</td>\n",
              "    </tr>\n",
              "    <tr>\n",
              "      <th>121002</th>\n",
              "      <td>ZAE000081949</td>\n",
              "      <td>US0463531089</td>\n",
              "      <td>2023</td>\n",
              "      <td>1.0</td>\n",
              "    </tr>\n",
              "    <tr>\n",
              "      <th>121003</th>\n",
              "      <td>ZAE000081949</td>\n",
              "      <td>US0463531089</td>\n",
              "      <td>2024</td>\n",
              "      <td>1.0</td>\n",
              "    </tr>\n",
              "  </tbody>\n",
              "</table>\n",
              "<p>121004 rows × 4 columns</p>\n",
              "</div>\n",
              "    <div class=\"colab-df-buttons\">\n",
              "\n",
              "  <div class=\"colab-df-container\">\n",
              "    <button class=\"colab-df-convert\" onclick=\"convertToInteractive('df-e7017211-0164-4171-8bb6-86bc55f32acf')\"\n",
              "            title=\"Convert this dataframe to an interactive table.\"\n",
              "            style=\"display:none;\">\n",
              "\n",
              "  <svg xmlns=\"http://www.w3.org/2000/svg\" height=\"24px\" viewBox=\"0 -960 960 960\">\n",
              "    <path d=\"M120-120v-720h720v720H120Zm60-500h600v-160H180v160Zm220 220h160v-160H400v160Zm0 220h160v-160H400v160ZM180-400h160v-160H180v160Zm440 0h160v-160H620v160ZM180-180h160v-160H180v160Zm440 0h160v-160H620v160Z\"/>\n",
              "  </svg>\n",
              "    </button>\n",
              "\n",
              "  <style>\n",
              "    .colab-df-container {\n",
              "      display:flex;\n",
              "      gap: 12px;\n",
              "    }\n",
              "\n",
              "    .colab-df-convert {\n",
              "      background-color: #E8F0FE;\n",
              "      border: none;\n",
              "      border-radius: 50%;\n",
              "      cursor: pointer;\n",
              "      display: none;\n",
              "      fill: #1967D2;\n",
              "      height: 32px;\n",
              "      padding: 0 0 0 0;\n",
              "      width: 32px;\n",
              "    }\n",
              "\n",
              "    .colab-df-convert:hover {\n",
              "      background-color: #E2EBFA;\n",
              "      box-shadow: 0px 1px 2px rgba(60, 64, 67, 0.3), 0px 1px 3px 1px rgba(60, 64, 67, 0.15);\n",
              "      fill: #174EA6;\n",
              "    }\n",
              "\n",
              "    .colab-df-buttons div {\n",
              "      margin-bottom: 4px;\n",
              "    }\n",
              "\n",
              "    [theme=dark] .colab-df-convert {\n",
              "      background-color: #3B4455;\n",
              "      fill: #D2E3FC;\n",
              "    }\n",
              "\n",
              "    [theme=dark] .colab-df-convert:hover {\n",
              "      background-color: #434B5C;\n",
              "      box-shadow: 0px 1px 3px 1px rgba(0, 0, 0, 0.15);\n",
              "      filter: drop-shadow(0px 1px 2px rgba(0, 0, 0, 0.3));\n",
              "      fill: #FFFFFF;\n",
              "    }\n",
              "  </style>\n",
              "\n",
              "    <script>\n",
              "      const buttonEl =\n",
              "        document.querySelector('#df-e7017211-0164-4171-8bb6-86bc55f32acf button.colab-df-convert');\n",
              "      buttonEl.style.display =\n",
              "        google.colab.kernel.accessAllowed ? 'block' : 'none';\n",
              "\n",
              "      async function convertToInteractive(key) {\n",
              "        const element = document.querySelector('#df-e7017211-0164-4171-8bb6-86bc55f32acf');\n",
              "        const dataTable =\n",
              "          await google.colab.kernel.invokeFunction('convertToInteractive',\n",
              "                                                    [key], {});\n",
              "        if (!dataTable) return;\n",
              "\n",
              "        const docLinkHtml = 'Like what you see? Visit the ' +\n",
              "          '<a target=\"_blank\" href=https://colab.research.google.com/notebooks/data_table.ipynb>data table notebook</a>'\n",
              "          + ' to learn more about interactive tables.';\n",
              "        element.innerHTML = '';\n",
              "        dataTable['output_type'] = 'display_data';\n",
              "        await google.colab.output.renderOutput(dataTable, element);\n",
              "        const docLink = document.createElement('div');\n",
              "        docLink.innerHTML = docLinkHtml;\n",
              "        element.appendChild(docLink);\n",
              "      }\n",
              "    </script>\n",
              "  </div>\n",
              "\n",
              "\n",
              "<div id=\"df-41356fc8-9096-4f2f-92ee-18c139c19ff0\">\n",
              "  <button class=\"colab-df-quickchart\" onclick=\"quickchart('df-41356fc8-9096-4f2f-92ee-18c139c19ff0')\"\n",
              "            title=\"Suggest charts\"\n",
              "            style=\"display:none;\">\n",
              "\n",
              "<svg xmlns=\"http://www.w3.org/2000/svg\" height=\"24px\"viewBox=\"0 0 24 24\"\n",
              "     width=\"24px\">\n",
              "    <g>\n",
              "        <path d=\"M19 3H5c-1.1 0-2 .9-2 2v14c0 1.1.9 2 2 2h14c1.1 0 2-.9 2-2V5c0-1.1-.9-2-2-2zM9 17H7v-7h2v7zm4 0h-2V7h2v10zm4 0h-2v-4h2v4z\"/>\n",
              "    </g>\n",
              "</svg>\n",
              "  </button>\n",
              "\n",
              "<style>\n",
              "  .colab-df-quickchart {\n",
              "      --bg-color: #E8F0FE;\n",
              "      --fill-color: #1967D2;\n",
              "      --hover-bg-color: #E2EBFA;\n",
              "      --hover-fill-color: #174EA6;\n",
              "      --disabled-fill-color: #AAA;\n",
              "      --disabled-bg-color: #DDD;\n",
              "  }\n",
              "\n",
              "  [theme=dark] .colab-df-quickchart {\n",
              "      --bg-color: #3B4455;\n",
              "      --fill-color: #D2E3FC;\n",
              "      --hover-bg-color: #434B5C;\n",
              "      --hover-fill-color: #FFFFFF;\n",
              "      --disabled-bg-color: #3B4455;\n",
              "      --disabled-fill-color: #666;\n",
              "  }\n",
              "\n",
              "  .colab-df-quickchart {\n",
              "    background-color: var(--bg-color);\n",
              "    border: none;\n",
              "    border-radius: 50%;\n",
              "    cursor: pointer;\n",
              "    display: none;\n",
              "    fill: var(--fill-color);\n",
              "    height: 32px;\n",
              "    padding: 0;\n",
              "    width: 32px;\n",
              "  }\n",
              "\n",
              "  .colab-df-quickchart:hover {\n",
              "    background-color: var(--hover-bg-color);\n",
              "    box-shadow: 0 1px 2px rgba(60, 64, 67, 0.3), 0 1px 3px 1px rgba(60, 64, 67, 0.15);\n",
              "    fill: var(--button-hover-fill-color);\n",
              "  }\n",
              "\n",
              "  .colab-df-quickchart-complete:disabled,\n",
              "  .colab-df-quickchart-complete:disabled:hover {\n",
              "    background-color: var(--disabled-bg-color);\n",
              "    fill: var(--disabled-fill-color);\n",
              "    box-shadow: none;\n",
              "  }\n",
              "\n",
              "  .colab-df-spinner {\n",
              "    border: 2px solid var(--fill-color);\n",
              "    border-color: transparent;\n",
              "    border-bottom-color: var(--fill-color);\n",
              "    animation:\n",
              "      spin 1s steps(1) infinite;\n",
              "  }\n",
              "\n",
              "  @keyframes spin {\n",
              "    0% {\n",
              "      border-color: transparent;\n",
              "      border-bottom-color: var(--fill-color);\n",
              "      border-left-color: var(--fill-color);\n",
              "    }\n",
              "    20% {\n",
              "      border-color: transparent;\n",
              "      border-left-color: var(--fill-color);\n",
              "      border-top-color: var(--fill-color);\n",
              "    }\n",
              "    30% {\n",
              "      border-color: transparent;\n",
              "      border-left-color: var(--fill-color);\n",
              "      border-top-color: var(--fill-color);\n",
              "      border-right-color: var(--fill-color);\n",
              "    }\n",
              "    40% {\n",
              "      border-color: transparent;\n",
              "      border-right-color: var(--fill-color);\n",
              "      border-top-color: var(--fill-color);\n",
              "    }\n",
              "    60% {\n",
              "      border-color: transparent;\n",
              "      border-right-color: var(--fill-color);\n",
              "    }\n",
              "    80% {\n",
              "      border-color: transparent;\n",
              "      border-right-color: var(--fill-color);\n",
              "      border-bottom-color: var(--fill-color);\n",
              "    }\n",
              "    90% {\n",
              "      border-color: transparent;\n",
              "      border-bottom-color: var(--fill-color);\n",
              "    }\n",
              "  }\n",
              "</style>\n",
              "\n",
              "  <script>\n",
              "    async function quickchart(key) {\n",
              "      const quickchartButtonEl =\n",
              "        document.querySelector('#' + key + ' button');\n",
              "      quickchartButtonEl.disabled = true;  // To prevent multiple clicks.\n",
              "      quickchartButtonEl.classList.add('colab-df-spinner');\n",
              "      try {\n",
              "        const charts = await google.colab.kernel.invokeFunction(\n",
              "            'suggestCharts', [key], {});\n",
              "      } catch (error) {\n",
              "        console.error('Error during call to suggestCharts:', error);\n",
              "      }\n",
              "      quickchartButtonEl.classList.remove('colab-df-spinner');\n",
              "      quickchartButtonEl.classList.add('colab-df-quickchart-complete');\n",
              "    }\n",
              "    (() => {\n",
              "      let quickchartButtonEl =\n",
              "        document.querySelector('#df-41356fc8-9096-4f2f-92ee-18c139c19ff0 button');\n",
              "      quickchartButtonEl.style.display =\n",
              "        google.colab.kernel.accessAllowed ? 'block' : 'none';\n",
              "    })();\n",
              "  </script>\n",
              "</div>\n",
              "\n",
              "  <div id=\"id_baed0cec-70a7-4a4b-9a96-4654c4f41205\">\n",
              "    <style>\n",
              "      .colab-df-generate {\n",
              "        background-color: #E8F0FE;\n",
              "        border: none;\n",
              "        border-radius: 50%;\n",
              "        cursor: pointer;\n",
              "        display: none;\n",
              "        fill: #1967D2;\n",
              "        height: 32px;\n",
              "        padding: 0 0 0 0;\n",
              "        width: 32px;\n",
              "      }\n",
              "\n",
              "      .colab-df-generate:hover {\n",
              "        background-color: #E2EBFA;\n",
              "        box-shadow: 0px 1px 2px rgba(60, 64, 67, 0.3), 0px 1px 3px 1px rgba(60, 64, 67, 0.15);\n",
              "        fill: #174EA6;\n",
              "      }\n",
              "\n",
              "      [theme=dark] .colab-df-generate {\n",
              "        background-color: #3B4455;\n",
              "        fill: #D2E3FC;\n",
              "      }\n",
              "\n",
              "      [theme=dark] .colab-df-generate:hover {\n",
              "        background-color: #434B5C;\n",
              "        box-shadow: 0px 1px 3px 1px rgba(0, 0, 0, 0.15);\n",
              "        filter: drop-shadow(0px 1px 2px rgba(0, 0, 0, 0.3));\n",
              "        fill: #FFFFFF;\n",
              "      }\n",
              "    </style>\n",
              "    <button class=\"colab-df-generate\" onclick=\"generateWithVariable('SNCO3')\"\n",
              "            title=\"Generate code using this dataframe.\"\n",
              "            style=\"display:none;\">\n",
              "\n",
              "  <svg xmlns=\"http://www.w3.org/2000/svg\" height=\"24px\"viewBox=\"0 0 24 24\"\n",
              "       width=\"24px\">\n",
              "    <path d=\"M7,19H8.4L18.45,9,17,7.55,7,17.6ZM5,21V16.75L18.45,3.32a2,2,0,0,1,2.83,0l1.4,1.43a1.91,1.91,0,0,1,.58,1.4,1.91,1.91,0,0,1-.58,1.4L9.25,21ZM18.45,9,17,7.55Zm-12,3A5.31,5.31,0,0,0,4.9,8.1,5.31,5.31,0,0,0,1,6.5,5.31,5.31,0,0,0,4.9,4.9,5.31,5.31,0,0,0,6.5,1,5.31,5.31,0,0,0,8.1,4.9,5.31,5.31,0,0,0,12,6.5,5.46,5.46,0,0,0,6.5,12Z\"/>\n",
              "  </svg>\n",
              "    </button>\n",
              "    <script>\n",
              "      (() => {\n",
              "      const buttonEl =\n",
              "        document.querySelector('#id_baed0cec-70a7-4a4b-9a96-4654c4f41205 button.colab-df-generate');\n",
              "      buttonEl.style.display =\n",
              "        google.colab.kernel.accessAllowed ? 'block' : 'none';\n",
              "\n",
              "      buttonEl.onclick = () => {\n",
              "        google.colab.notebook.generateWithVariable('SNCO3');\n",
              "      }\n",
              "      })();\n",
              "    </script>\n",
              "  </div>\n",
              "\n",
              "    </div>\n",
              "  </div>\n"
            ],
            "application/vnd.google.colaboratory.intrinsic+json": {
              "type": "dataframe",
              "variable_name": "SNCO3"
            }
          },
          "metadata": {},
          "execution_count": 32
        }
      ]
    },
    {
      "cell_type": "code",
      "source": [
        "# Rename columns\n",
        "SNCO3.rename(columns={'ISIN_z': 'ISIN_y'}, inplace=True)\n",
        "\n",
        "# Include a sector for ISIN_y\n",
        "isin_to_sector = BoardEx.set_index('ISIN')['Sector'].to_dict()\n",
        "\n",
        "SNCO3['Sector_x'] = SNCO3['ISIN_x'].map(isin_to_sector)\n",
        "SNCO3['Sector_y'] = SNCO3['ISIN_y'].map(isin_to_sector)\n",
        "\n",
        "SNCO3 = SNCO3.sort_values(by='year', ascending=True).reset_index(drop=True)\n",
        "\n",
        "# Display the updated dataframe\n",
        "print(SNCO3)\n"
      ],
      "metadata": {
        "id": "U-agqevFrkQn",
        "colab": {
          "base_uri": "https://localhost:8080/"
        },
        "outputId": "015a8fa6-483c-4869-b98c-9e503124c30b"
      },
      "execution_count": null,
      "outputs": [
        {
          "output_type": "stream",
          "name": "stdout",
          "text": [
            "              ISIN_x        ISIN_y  year  Weight                    Sector_x  \\\n",
            "0       GB00BLH3CY60  GB0004339189  2017     1.0        Investment Companies   \n",
            "1       GB00BMCF8689  GB0000353929  2017     2.0        Investment Companies   \n",
            "2       GB0007958233  GB0001001592  2017     3.0         Aerospace & Defence   \n",
            "3       GB00BMCF8689  GB0001367019  2017     1.0        Investment Companies   \n",
            "4       GB00BMCF8689  GB0001765816  2017     1.0        Investment Companies   \n",
            "...              ...           ...   ...     ...                         ...   \n",
            "120999  GB00BMX64W89  VGG3338A1158  2024     1.0                   Insurance   \n",
            "121000  GB0006928617  GB00B8C3BL03  2024     1.0                 Real Estate   \n",
            "121001  GB0006928617  GB00B28HSF71  2024     1.0                 Real Estate   \n",
            "121002  GB0006928617  GB00B1KJJ408  2024     1.0                 Real Estate   \n",
            "121003  ZAE000081949  US0463531089  2024     1.0  Speciality & Other Finance   \n",
            "\n",
            "                                 Sector_y  \n",
            "0                        Leisure & Hotels  \n",
            "1                    Investment Companies  \n",
            "2       Pharmaceuticals and Biotechnology  \n",
            "3                             Real Estate  \n",
            "4              Speciality & Other Finance  \n",
            "...                                   ...  \n",
            "120999                  Business Services  \n",
            "121000       Software & Computer Services  \n",
            "121001       Software & Computer Services  \n",
            "121002                   Leisure & Hotels  \n",
            "121003  Pharmaceuticals and Biotechnology  \n",
            "\n",
            "[121004 rows x 6 columns]\n"
          ]
        }
      ]
    },
    {
      "cell_type": "code",
      "source": [
        "file_path = '/content/drive/My Drive/SNC03.csv'\n",
        "\n",
        "SNCO3.to_csv(file_path, index=False)"
      ],
      "metadata": {
        "id": "goCDvLbxMjnr"
      },
      "execution_count": null,
      "outputs": []
    },
    {
      "cell_type": "code",
      "source": [
        "# Calculate summary statistics for weight of indirect connections\n",
        "indirect_weight_stats = SNCO3['Weight'].describe()\n",
        "print(\"Indirect Connections Weight Statistics:\\n\", indirect_weight_stats)"
      ],
      "metadata": {
        "id": "-xXX5X2Lt-Dd",
        "outputId": "53c8d74f-47f4-4ba1-e083-f6b651832382",
        "colab": {
          "base_uri": "https://localhost:8080/"
        }
      },
      "execution_count": null,
      "outputs": [
        {
          "output_type": "stream",
          "name": "stdout",
          "text": [
            "Indirect Connections Weight Statistics:\n",
            " count    121004.000000\n",
            "mean          2.043238\n",
            "std           3.727244\n",
            "min           1.000000\n",
            "25%           1.000000\n",
            "50%           1.000000\n",
            "75%           1.500000\n",
            "max          65.000000\n",
            "Name: Weight, dtype: float64\n"
          ]
        }
      ]
    },
    {
      "cell_type": "code",
      "source": [
        "# Multiply the 'Weight' column by 2 for direct connections so that direct connections are more strongly weighted than indirect connections\n",
        "FinalSN['Weight'] = FinalSN['Weight'] * 2\n"
      ],
      "metadata": {
        "id": "ddPAnVtHuYQH"
      },
      "execution_count": null,
      "outputs": []
    },
    {
      "cell_type": "code",
      "source": [
        "# Calculate summary statistics for weight of direct connections\n",
        "direct_weight_stats = FinalSN['Weight'].describe()\n",
        "print(\"Direct Connections Weight Statistics:\\n\", direct_weight_stats)"
      ],
      "metadata": {
        "id": "xjJlFFE9t9_C",
        "outputId": "dcc16be6-dba7-4774-e698-ace46d841332",
        "colab": {
          "base_uri": "https://localhost:8080/"
        }
      },
      "execution_count": null,
      "outputs": [
        {
          "output_type": "stream",
          "name": "stdout",
          "text": [
            "Direct Connections Weight Statistics:\n",
            " count    34025.000000\n",
            "mean         3.174372\n",
            "std          8.657346\n",
            "min          2.000000\n",
            "25%          2.000000\n",
            "50%          2.000000\n",
            "75%          2.000000\n",
            "max        250.000000\n",
            "Name: Weight, dtype: float64\n"
          ]
        }
      ]
    },
    {
      "cell_type": "markdown",
      "source": [
        "# **Build Consolidated Network**"
      ],
      "metadata": {
        "id": "nTJXxMfUKElc"
      }
    },
    {
      "cell_type": "code",
      "source": [
        "### Combine Direct and Indirect Sub-Networks into single network\n",
        "FinalSN1 = pd.concat([FinalSN, SNCO3], ignore_index=False)\n",
        "print(FinalSN1)\n"
      ],
      "metadata": {
        "colab": {
          "base_uri": "https://localhost:8080/"
        },
        "id": "FrVwQPNLrwo3",
        "outputId": "454502d0-9717-49ed-b891-1499d7a5aab1"
      },
      "execution_count": null,
      "outputs": [
        {
          "output_type": "stream",
          "name": "stdout",
          "text": [
            "        DirectorID        ISIN_x  year                    Sector_x  \\\n",
            "0             31.0  GB00B07YBS95  2017        Investment Companies   \n",
            "2             31.0  GB00B07YBS95  2017        Investment Companies   \n",
            "4             31.0  GB00B07YBS95  2017        Investment Companies   \n",
            "6             31.0  GB00B07YBS95  2017        Investment Companies   \n",
            "8             31.0  GB00B07YBS95  2017        Investment Companies   \n",
            "...            ...           ...   ...                         ...   \n",
            "120999         NaN  GB00BMX64W89  2024                   Insurance   \n",
            "121000         NaN  GB0006928617  2024                 Real Estate   \n",
            "121001         NaN  GB0006928617  2024                 Real Estate   \n",
            "121002         NaN  GB0006928617  2024                 Real Estate   \n",
            "121003         NaN  ZAE000081949  2024  Speciality & Other Finance   \n",
            "\n",
            "              ISIN_y                           Sector_y  Weight  \n",
            "0       GB00B68K3716               Investment Companies     2.0  \n",
            "2       GB0003292009               Investment Companies     2.0  \n",
            "4       GB0005630420                  Business Services     2.0  \n",
            "6       GB0000684174               Investment Companies     2.0  \n",
            "8       GB00B1RTFN43               Investment Companies     2.0  \n",
            "...              ...                                ...     ...  \n",
            "120999  VGG3338A1158                  Business Services     1.0  \n",
            "121000  GB00B8C3BL03       Software & Computer Services     1.0  \n",
            "121001  GB00B28HSF71       Software & Computer Services     1.0  \n",
            "121002  GB00B1KJJ408                   Leisure & Hotels     1.0  \n",
            "121003  US0463531089  Pharmaceuticals and Biotechnology     1.0  \n",
            "\n",
            "[155029 rows x 7 columns]\n"
          ]
        }
      ]
    },
    {
      "cell_type": "code",
      "source": [
        "#Two companies cannot be indirectly connected if they are directly connected - drop such duplicates\n",
        "FinalSN1.drop_duplicates(subset=['ISIN_x', 'ISIN_y', 'year'], keep='first', inplace=True)\n",
        "print(FinalSN1)\n"
      ],
      "metadata": {
        "colab": {
          "base_uri": "https://localhost:8080/"
        },
        "id": "BBultj3Jr02q",
        "outputId": "78baf42c-5611-43eb-d988-a9703aa32a1d"
      },
      "execution_count": null,
      "outputs": [
        {
          "output_type": "stream",
          "name": "stdout",
          "text": [
            "        DirectorID        ISIN_x  year                    Sector_x  \\\n",
            "0             31.0  GB00B07YBS95  2017        Investment Companies   \n",
            "2             31.0  GB00B07YBS95  2017        Investment Companies   \n",
            "4             31.0  GB00B07YBS95  2017        Investment Companies   \n",
            "6             31.0  GB00B07YBS95  2017        Investment Companies   \n",
            "8             31.0  GB00B07YBS95  2017        Investment Companies   \n",
            "...            ...           ...   ...                         ...   \n",
            "120998         NaN  GB00BMX64W89  2024                   Insurance   \n",
            "120999         NaN  GB00BMX64W89  2024                   Insurance   \n",
            "121000         NaN  GB0006928617  2024                 Real Estate   \n",
            "121002         NaN  GB0006928617  2024                 Real Estate   \n",
            "121003         NaN  ZAE000081949  2024  Speciality & Other Finance   \n",
            "\n",
            "              ISIN_y                           Sector_y  Weight  \n",
            "0       GB00B68K3716               Investment Companies     2.0  \n",
            "2       GB0003292009               Investment Companies     2.0  \n",
            "4       GB0005630420                  Business Services     2.0  \n",
            "6       GB0000684174               Investment Companies     2.0  \n",
            "8       GB00B1RTFN43               Investment Companies     2.0  \n",
            "...              ...                                ...     ...  \n",
            "120998  GB00BYWK1Q82                        Real Estate     1.0  \n",
            "120999  VGG3338A1158                  Business Services     1.0  \n",
            "121000  GB00B8C3BL03       Software & Computer Services     1.0  \n",
            "121002  GB00B1KJJ408                   Leisure & Hotels     1.0  \n",
            "121003  US0463531089  Pharmaceuticals and Biotechnology     1.0  \n",
            "\n",
            "[140962 rows x 7 columns]\n"
          ]
        }
      ]
    },
    {
      "cell_type": "code",
      "source": [
        "file_path = '/content/drive/My Drive/FinalSN1.csv'\n",
        "\n",
        "FinalSN1.to_csv(file_path, index=False)"
      ],
      "metadata": {
        "id": "rvdXXurVr23-"
      },
      "execution_count": null,
      "outputs": []
    }
  ]
}